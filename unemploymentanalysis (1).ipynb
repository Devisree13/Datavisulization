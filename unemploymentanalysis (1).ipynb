{
 "cells": [
  {
   "cell_type": "code",
   "execution_count": 41,
   "id": "7cf2689e",
   "metadata": {},
   "outputs": [],
   "source": [
    "import pandas as pd\n",
    "import matplotlib.pyplot as plt\n",
    "import seaborn as sns"
   ]
  },
  {
   "cell_type": "code",
   "execution_count": 42,
   "id": "3964e9ad",
   "metadata": {},
   "outputs": [
    {
     "data": {
      "text/html": [
       "<div>\n",
       "<style scoped>\n",
       "    .dataframe tbody tr th:only-of-type {\n",
       "        vertical-align: middle;\n",
       "    }\n",
       "\n",
       "    .dataframe tbody tr th {\n",
       "        vertical-align: top;\n",
       "    }\n",
       "\n",
       "    .dataframe thead th {\n",
       "        text-align: right;\n",
       "    }\n",
       "</style>\n",
       "<table border=\"1\" class=\"dataframe\">\n",
       "  <thead>\n",
       "    <tr style=\"text-align: right;\">\n",
       "      <th></th>\n",
       "      <th>Region</th>\n",
       "      <th>Date</th>\n",
       "      <th>Frequency</th>\n",
       "      <th>EstimatedUnemploymentRate (%)</th>\n",
       "      <th>Estimated Employed</th>\n",
       "      <th>EstimatedLabourParticipationRate (%)</th>\n",
       "      <th>Area</th>\n",
       "    </tr>\n",
       "  </thead>\n",
       "  <tbody>\n",
       "    <tr>\n",
       "      <th>0</th>\n",
       "      <td>Andhra Pradesh</td>\n",
       "      <td>31-05-2019</td>\n",
       "      <td>Monthly</td>\n",
       "      <td>3.65</td>\n",
       "      <td>11999139.0</td>\n",
       "      <td>43.24</td>\n",
       "      <td>Rural</td>\n",
       "    </tr>\n",
       "    <tr>\n",
       "      <th>1</th>\n",
       "      <td>Andhra Pradesh</td>\n",
       "      <td>30-06-2019</td>\n",
       "      <td>Monthly</td>\n",
       "      <td>3.05</td>\n",
       "      <td>11755881.0</td>\n",
       "      <td>42.05</td>\n",
       "      <td>Rural</td>\n",
       "    </tr>\n",
       "    <tr>\n",
       "      <th>2</th>\n",
       "      <td>Andhra Pradesh</td>\n",
       "      <td>31-07-2019</td>\n",
       "      <td>Monthly</td>\n",
       "      <td>3.75</td>\n",
       "      <td>12086707.0</td>\n",
       "      <td>43.50</td>\n",
       "      <td>Rural</td>\n",
       "    </tr>\n",
       "    <tr>\n",
       "      <th>3</th>\n",
       "      <td>Andhra Pradesh</td>\n",
       "      <td>31-08-2019</td>\n",
       "      <td>Monthly</td>\n",
       "      <td>3.32</td>\n",
       "      <td>12285693.0</td>\n",
       "      <td>43.97</td>\n",
       "      <td>Rural</td>\n",
       "    </tr>\n",
       "    <tr>\n",
       "      <th>4</th>\n",
       "      <td>Andhra Pradesh</td>\n",
       "      <td>30-09-2019</td>\n",
       "      <td>Monthly</td>\n",
       "      <td>5.17</td>\n",
       "      <td>12256762.0</td>\n",
       "      <td>44.68</td>\n",
       "      <td>Rural</td>\n",
       "    </tr>\n",
       "    <tr>\n",
       "      <th>...</th>\n",
       "      <td>...</td>\n",
       "      <td>...</td>\n",
       "      <td>...</td>\n",
       "      <td>...</td>\n",
       "      <td>...</td>\n",
       "      <td>...</td>\n",
       "      <td>...</td>\n",
       "    </tr>\n",
       "    <tr>\n",
       "      <th>749</th>\n",
       "      <td>West Bengal</td>\n",
       "      <td>29-02-2020</td>\n",
       "      <td>Monthly</td>\n",
       "      <td>7.55</td>\n",
       "      <td>10871168.0</td>\n",
       "      <td>44.09</td>\n",
       "      <td>Urban</td>\n",
       "    </tr>\n",
       "    <tr>\n",
       "      <th>750</th>\n",
       "      <td>West Bengal</td>\n",
       "      <td>31-03-2020</td>\n",
       "      <td>Monthly</td>\n",
       "      <td>6.67</td>\n",
       "      <td>10806105.0</td>\n",
       "      <td>43.34</td>\n",
       "      <td>Urban</td>\n",
       "    </tr>\n",
       "    <tr>\n",
       "      <th>751</th>\n",
       "      <td>West Bengal</td>\n",
       "      <td>30-04-2020</td>\n",
       "      <td>Monthly</td>\n",
       "      <td>15.63</td>\n",
       "      <td>9299466.0</td>\n",
       "      <td>41.20</td>\n",
       "      <td>Urban</td>\n",
       "    </tr>\n",
       "    <tr>\n",
       "      <th>752</th>\n",
       "      <td>West Bengal</td>\n",
       "      <td>31-05-2020</td>\n",
       "      <td>Monthly</td>\n",
       "      <td>15.22</td>\n",
       "      <td>9240903.0</td>\n",
       "      <td>40.67</td>\n",
       "      <td>Urban</td>\n",
       "    </tr>\n",
       "    <tr>\n",
       "      <th>753</th>\n",
       "      <td>West Bengal</td>\n",
       "      <td>30-06-2020</td>\n",
       "      <td>Monthly</td>\n",
       "      <td>9.86</td>\n",
       "      <td>9088931.0</td>\n",
       "      <td>37.57</td>\n",
       "      <td>Urban</td>\n",
       "    </tr>\n",
       "  </tbody>\n",
       "</table>\n",
       "<p>754 rows × 7 columns</p>\n",
       "</div>"
      ],
      "text/plain": [
       "             Region         Date  Frequency   EstimatedUnemploymentRate (%)  \\\n",
       "0    Andhra Pradesh   31-05-2019    Monthly                            3.65   \n",
       "1    Andhra Pradesh   30-06-2019    Monthly                            3.05   \n",
       "2    Andhra Pradesh   31-07-2019    Monthly                            3.75   \n",
       "3    Andhra Pradesh   31-08-2019    Monthly                            3.32   \n",
       "4    Andhra Pradesh   30-09-2019    Monthly                            5.17   \n",
       "..              ...          ...        ...                             ...   \n",
       "749     West Bengal   29-02-2020    Monthly                            7.55   \n",
       "750     West Bengal   31-03-2020    Monthly                            6.67   \n",
       "751     West Bengal   30-04-2020    Monthly                           15.63   \n",
       "752     West Bengal   31-05-2020    Monthly                           15.22   \n",
       "753     West Bengal   30-06-2020    Monthly                            9.86   \n",
       "\n",
       "      Estimated Employed   EstimatedLabourParticipationRate (%)   Area  \n",
       "0             11999139.0                                  43.24  Rural  \n",
       "1             11755881.0                                  42.05  Rural  \n",
       "2             12086707.0                                  43.50  Rural  \n",
       "3             12285693.0                                  43.97  Rural  \n",
       "4             12256762.0                                  44.68  Rural  \n",
       "..                   ...                                    ...    ...  \n",
       "749           10871168.0                                  44.09  Urban  \n",
       "750           10806105.0                                  43.34  Urban  \n",
       "751            9299466.0                                  41.20  Urban  \n",
       "752            9240903.0                                  40.67  Urban  \n",
       "753            9088931.0                                  37.57  Urban  \n",
       "\n",
       "[754 rows x 7 columns]"
      ]
     },
     "execution_count": 42,
     "metadata": {},
     "output_type": "execute_result"
    }
   ],
   "source": [
    "df = pd.read_csv('C:/Users/N.NAVADEEP/Downloads/Unemployment in india.csv')\n",
    "df"
   ]
  },
  {
   "cell_type": "code",
   "execution_count": 43,
   "id": "96b7c26d",
   "metadata": {},
   "outputs": [
    {
     "name": "stdout",
     "output_type": "stream",
     "text": [
      "           Region         Date  Frequency   EstimatedUnemploymentRate (%)  \\\n",
      "0  Andhra Pradesh   31-05-2019    Monthly                            3.65   \n",
      "1  Andhra Pradesh   30-06-2019    Monthly                            3.05   \n",
      "2  Andhra Pradesh   31-07-2019    Monthly                            3.75   \n",
      "3  Andhra Pradesh   31-08-2019    Monthly                            3.32   \n",
      "4  Andhra Pradesh   30-09-2019    Monthly                            5.17   \n",
      "\n",
      "    Estimated Employed   EstimatedLabourParticipationRate (%)   Area  \n",
      "0           11999139.0                                  43.24  Rural  \n",
      "1           11755881.0                                  42.05  Rural  \n",
      "2           12086707.0                                  43.50  Rural  \n",
      "3           12285693.0                                  43.97  Rural  \n",
      "4           12256762.0                                  44.68  Rural  \n"
     ]
    }
   ],
   "source": [
    "print(df.head())"
   ]
  },
  {
   "cell_type": "code",
   "execution_count": 44,
   "id": "e7cfacc8",
   "metadata": {},
   "outputs": [
    {
     "name": "stdout",
     "output_type": "stream",
     "text": [
      "(754, 7)\n"
     ]
    }
   ],
   "source": [
    "# Check the shape of the dataset\n",
    "print(df.shape)"
   ]
  },
  {
   "cell_type": "code",
   "execution_count": 33,
   "id": "3394b240",
   "metadata": {},
   "outputs": [
    {
     "name": "stdout",
     "output_type": "stream",
     "text": [
      "Region                                    object\n",
      " Date                                     object\n",
      " Frequency                                object\n",
      " EstimatedUnemploymentRate (%)           float64\n",
      " Estimated Employed                      float64\n",
      " EstimatedLabourParticipationRate (%)    float64\n",
      "Area                                      object\n",
      "dtype: object\n"
     ]
    }
   ],
   "source": [
    "# Check the data types of the columns\n",
    "print(df.dtypes)"
   ]
  },
  {
   "cell_type": "code",
   "execution_count": 34,
   "id": "36fb2133",
   "metadata": {},
   "outputs": [
    {
     "name": "stdout",
     "output_type": "stream",
     "text": [
      "The region with the highest unemployment rate is Tripura with a rate of 28.350357142857142 %.\n"
     ]
    }
   ],
   "source": [
    "# grouping the data by region and calculate the average unemployment rate\n",
    "grouped = df.groupby('Region').mean()\n",
    "# sorting the data by the unemployment rate in descending order\n",
    "sorted_data = grouped.sort_values(by=' EstimatedUnemploymentRate (%)', ascending=False)\n",
    "# getting the region with the highest unemployment rate and its value\n",
    "highest_unemployment_rate = sorted_data.iloc[0][' EstimatedUnemploymentRate (%)']\n",
    "highest_unemployment_region = sorted_data.index[0]\n",
    "# print the result\n",
    "print(f\"The region with the highest unemployment rate is {highest_unemployment_region} with a rate of {highest_unemployment_rate} %.\")"
   ]
  },
  {
   "cell_type": "code",
   "execution_count": 35,
   "id": "102917f9",
   "metadata": {},
   "outputs": [
    {
     "data": {
      "text/plain": [
       "<AxesSubplot:xlabel=' EstimatedUnemploymentRate (%)', ylabel=' Estimated Employed'>"
      ]
     },
     "execution_count": 35,
     "metadata": {},
     "output_type": "execute_result"
    },
    {
     "data": {
      "image/png": "[encoded data removed]",
      "text/plain": [
       "<Figure size 432x288 with 1 Axes>"
      ]
     },
     "metadata": {
      "needs_background": "light"
     },
     "output_type": "display_data"
    }
   ],
   "source": [
    "# Create a scatter plot to show the relationship between unemployment rate and employed individuals\n",
    "sns.scatterplot(x=' EstimatedUnemploymentRate (%)', y=' Estimated Employed', data=df)"
   ]
  },
  {
   "cell_type": "code",
   "execution_count": 36,
   "id": "0831173a",
   "metadata": {},
   "outputs": [
    {
     "data": {
      "text/plain": [
       "<AxesSubplot:xlabel='Region', ylabel=' EstimatedUnemploymentRate (%)'>"
      ]
     },
     "execution_count": 36,
     "metadata": {},
     "output_type": "execute_result"
    },
    {
     "data": {
      "image/png": "[encoded data removed]",
      "text/plain": [
       "<Figure size 432x288 with 1 Axes>"
      ]
     },
     "metadata": {
      "needs_background": "light"
     },
     "output_type": "display_data"
    }
   ],
   "source": [
    "# Create a bar chart to show the average unemployment rate by region\n",
    "sns.barplot(x='Region', y=' EstimatedUnemploymentRate (%)', data=df)"
   ]
  }
 ],
 "metadata": {
  "kernelspec": {
   "display_name": "Python 3",
   "language": "python",
   "name": "python3"
  },
  "language_info": {
   "codemirror_mode": {
    "name": "ipython",
    "version": 3
   },
   "file_extension": ".py",
   "mimetype": "text/x-python",
   "name": "python",
   "nbconvert_exporter": "python",
   "pygments_lexer": "ipython3",
   "version": "3.8.8"
  }
 },
 "nbformat": 4,
 "nbformat_minor": 5
}
